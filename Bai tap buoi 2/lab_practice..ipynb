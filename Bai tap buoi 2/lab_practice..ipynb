{
 "cells": [
  {
   "cell_type": "markdown",
   "metadata": {},
   "source": [
    "# Excersise 1\n",
    "* Question 1: \n",
    "> Viết chương trình nhập vào một số thực. Đơn vị tính cho số này là centimet (cm). Hãy in ra số tương đương tính bằng foot (số thực, có 2 số lẻ thập phân) và inch (số thực, có 2 số lẻ thập phân). Với 1 inch = 2.54 cm và 1 foot = 12 inches."
   ]
  },
  {
   "cell_type": "code",
   "execution_count": 8,
   "metadata": {},
   "outputs": [],
   "source": [
    "def change(x):\n",
    "    inch = round(float(x)/2.54,2)\n",
    "    foot = round(inch/12,2)\n",
    "    return print(f'From {x}cm change to Inch: {inch} ; Foot: {foot}') "
   ]
  },
  {
   "cell_type": "code",
   "execution_count": 9,
   "metadata": {},
   "outputs": [
    {
     "name": "stdout",
     "output_type": "stream",
     "text": [
      "From 12.8cm change to Inch: 5.04 ; Foot: 0.42\n"
     ]
    }
   ],
   "source": [
    "change(12.8)"
   ]
  },
  {
   "cell_type": "markdown",
   "metadata": {},
   "source": [
    "* Question 2\n",
    "> Viết chương trình nhập vào số giây từ 0 tới 68399, đổi số giây này thành dạng [giờ:phút:giây], mỗi thành phần là một số nguyên có 2 chữ số.\n",
    "Ví dụ: 02:11:05"
   ]
  },
  {
   "cell_type": "code",
   "execution_count": 19,
   "metadata": {},
   "outputs": [],
   "source": [
    "def convert_seconds_to_hh_mm_ss(seconds):\n",
    "    hours = seconds // 3600\n",
    "    remaining_seconds = seconds % 3600\n",
    "    minutes = remaining_seconds // 60\n",
    "    remaining_seconds %= 60\n",
    "    \n",
    "    return f\"{hours:02d}:{minutes:02d}:{remaining_seconds:02d}\""
   ]
  },
  {
   "cell_type": "code",
   "execution_count": 20,
   "metadata": {},
   "outputs": [
    {
     "data": {
      "text/plain": [
       "'01:00:36'"
      ]
     },
     "execution_count": 20,
     "metadata": {},
     "output_type": "execute_result"
    }
   ],
   "source": [
    "convert_seconds_to_hh_mm_ss(3636)"
   ]
  },
  {
   "cell_type": "markdown",
   "metadata": {},
   "source": [
    "* Question 3\n",
    "- Viết chương trình nhập vào 4 số nguyên.\n",
    "- Hiển thị ra số lớn nhất và nhỏ nhất\n",
    "- Ví dụ:\n",
    "- nhập vào 4 số 1,2,3,4 thì kết quả là:\n",
    "- Số lớn nhất là: 4\n",
    "- Số nhỏ nhất là: 1\n"
   ]
  },
  {
   "cell_type": "code",
   "execution_count": 34,
   "metadata": {},
   "outputs": [],
   "source": [
    "def find_min_max(a,b,c,d):\n",
    "    list = [a,b,c,d]\n",
    "    max_ = max(list)\n",
    "    min_ = min(list)\n",
    "    return f'Max number is {max_} - Min number is {min_}'"
   ]
  },
  {
   "cell_type": "code",
   "execution_count": 32,
   "metadata": {},
   "outputs": [
    {
     "data": {
      "text/plain": [
       "'Max number is 08 - Min number is 02'"
      ]
     },
     "execution_count": 32,
     "metadata": {},
     "output_type": "execute_result"
    }
   ],
   "source": [
    "find_min_max(2,4,6,8)"
   ]
  },
  {
   "cell_type": "markdown",
   "metadata": {},
   "source": [
    "* Question 4\n",
    "> Nhập vào hai số tự nhiên a và b. Tính hiệu của hai số đó.\n",
    "Nếu hiệu số lớn hơn 0 thì in ra dòng chữ [Số thứ nhất lớn hơn số thứ hai].\n",
    "Nếu hiệu số nhỏ hơn 0 thì in ra dòng chữ [Số thứ nhất nhỏ hơn số thứ hai].\n"
   ]
  },
  {
   "cell_type": "code",
   "execution_count": 37,
   "metadata": {},
   "outputs": [],
   "source": [
    "def minus(a,b):\n",
    "    result = a - b\n",
    "    if result < 0:\n",
    "        print(f\"{a} is smaller than {b}\")\n",
    "    else: print(f\"{a} is larger than {b}\")         "
   ]
  },
  {
   "cell_type": "code",
   "execution_count": 38,
   "metadata": {},
   "outputs": [
    {
     "name": "stdout",
     "output_type": "stream",
     "text": [
      "2 is smaller than 4\n"
     ]
    }
   ],
   "source": [
    "minus(2,4)"
   ]
  },
  {
   "cell_type": "markdown",
   "metadata": {},
   "source": [
    "* Question 5\n",
    "> Nhập vào 2 số tự nhiên a và b. Kiểm tra xem a có chia hết cho b không"
   ]
  },
  {
   "cell_type": "code",
   "execution_count": 62,
   "metadata": {},
   "outputs": [],
   "source": [
    "def division_check(a,b):\n",
    "    result = a%b\n",
    "    if result == 0:\n",
    "        print(f\"{a} is divisible by {b}\")\n",
    "    else: print(f\"{a} is not divisible by {b}\")"
   ]
  },
  {
   "cell_type": "code",
   "execution_count": 41,
   "metadata": {},
   "outputs": [
    {
     "name": "stdout",
     "output_type": "stream",
     "text": [
      "4 is not divisible by 3\n"
     ]
    }
   ],
   "source": [
    "division_check(4,3)"
   ]
  },
  {
   "cell_type": "markdown",
   "metadata": {},
   "source": [
    "* Question 6\n",
    "> Xếp loại sinh viên theo các quy luật dưới đây:\n",
    "-\tNếu điểm >= 9.0 - Loại xuất sắc\n",
    "-\tNếu 8.0<= điểm < 9.0 - Loại giỏi\n",
    "-\tNếu 7.0<= điểm < 8.0 - Loại khá\n",
    "\n",
    "-\tNếu 6.0 <= điểm < 7.0 - Loại trung bình khá\n",
    "-\tNếu 5.0 <= điểm < 6.0 - Loại trung bình\n",
    "-\tNếu điểm < 5.0 - Loại kém\n",
    "Với điểm = ( (điểm toán)*2 + điểm lý + điểm hóa )/4\n",
    "### Viết Chương trình:\n",
    "- a. Nhập vào điểm 3 môn học\n",
    "- b. Tính điểm trung bình\n",
    "- c. Xác định học lực của học sinh dựa trên điểm trung bình\n",
    "- d. Hiển thị học lực của học sinh\n"
   ]
  },
  {
   "cell_type": "code",
   "execution_count": 55,
   "metadata": {},
   "outputs": [],
   "source": [
    "def performance_check(a,b,c):\n",
    "    avg = round((a*2+b+c)/4,2)\n",
    "    if avg >= 9:\n",
    "        print('Xuất sắc')\n",
    "    if avg >= 8:\n",
    "        print('Giỏi')  \n",
    "    if avg >= 7:\n",
    "        print(\"Khá\")\n",
    "    if avg >= 6:\n",
    "        print(\"Trung bình khá\")\n",
    "    if avg >= 5:\n",
    "        print(\"Trung Bình\")\n",
    "    else: print(\"Kém\")\n",
    "    print(f'Điểm trung bình: {avg:.2f}')                      "
   ]
  },
  {
   "cell_type": "code",
   "execution_count": 56,
   "metadata": {},
   "outputs": [
    {
     "name": "stdout",
     "output_type": "stream",
     "text": [
      "Kém\n",
      "Điểm trung bình: 1.75\n"
     ]
    }
   ],
   "source": [
    "performance_check(1,2,3)"
   ]
  },
  {
   "cell_type": "markdown",
   "metadata": {},
   "source": [
    "# Excersise 2\n",
    "* Question 1: \n",
    "> Hãy viết chương trình tính tổng các chữ số của một số nguyên bất kỳ.\n",
    "Ví dụ: Số 8545604 có tổng các chữ số là: 8+5+4+5+6+0+4= 32\n"
   ]
  },
  {
   "cell_type": "code",
   "execution_count": 70,
   "metadata": {},
   "outputs": [],
   "source": [
    "def sum_digit(a):\n",
    "    b = str(a)\n",
    "    result = 0\n",
    "    for i in b:\n",
    "        result += int(i) \n",
    "    return f\"Tổng của các số là {result:.1f}\""
   ]
  },
  {
   "cell_type": "code",
   "execution_count": 71,
   "metadata": {},
   "outputs": [
    {
     "data": {
      "text/plain": [
       "'Tổng của các số là 32.0'"
      ]
     },
     "execution_count": 71,
     "metadata": {},
     "output_type": "execute_result"
    }
   ],
   "source": [
    "sum_digit(8545604)"
   ]
  },
  {
   "cell_type": "markdown",
   "metadata": {},
   "source": [
    "* Question 2:\n",
    "> Viết chương trình phân tích một số nguyên thành các thừa số nguyên tố\n",
    "Ví dụ: Số 28 được phân tích thành 2 x 2 x 7\n"
   ]
  },
  {
   "cell_type": "markdown",
   "metadata": {},
   "source": [
    "Muốn phân tích một số tự nhiên a lớn hơn 1 ra thừa số nguyên tố ta có thể làm như sau:\n",
    "\n",
    "- Kiểm tra xem 2 có phải là ước của a hay không. Nếu không ta xét số nguyên tố 3 và cứ như thế đối với các số nguyên tố lớn dần.\n",
    "\n",
    "- Giả sử p là ước nguyên tố nhỏ nhất của a, ta chia a cho p được thương b.\n",
    "\n",
    "- Tiếp tục thực hiện quy trình trên đối với b.\n",
    "\n",
    "Quá trình trên kéo dài cho đến khi ta được thương là một số nguyên tố.\n",
    "- Lưu ý: Dù phân tích một số tự nhiên ra thừa số nguyên tố bằng cách nào thì cũng được cùng một kết quả. [^1]\n",
    "- Xem thêm tại: https://loigiaihay.com/ly-thuyet-phan-tich-mot-so-ra-thua-so-nguyen-to-c41a3982.html"
   ]
  },
  {
   "cell_type": "code",
   "execution_count": 72,
   "metadata": {},
   "outputs": [
    {
     "name": "stdout",
     "output_type": "stream",
     "text": [
      "Số 123 được phân tích thành 3 x 41\n"
     ]
    }
   ],
   "source": [
    "def prime_factors(n):\n",
    "    factors = []\n",
    "    divisor = 2\n",
    "\n",
    "    while divisor <= n:\n",
    "        if n % divisor == 0:\n",
    "            factors.append(divisor)\n",
    "            n //= divisor\n",
    "        else:\n",
    "            divisor += 1\n",
    "\n",
    "    return factors\n",
    "\n",
    "number = int(input(\"Nhập một số nguyên: \"))\n",
    "factors = prime_factors(number)\n",
    "\n",
    "if len(factors) == 0:\n",
    "    print(\"Số\", number, \"không có thừa số nguyên tố.\")\n",
    "else:\n",
    "    factor_str = \" x \".join(str(factor) for factor in factors)\n",
    "    print(\"Số\", number, \"được phân tích thành\", factor_str)"
   ]
  },
  {
   "cell_type": "markdown",
   "metadata": {},
   "source": [
    "* Question 3: \n",
    "> Viết chương trình liệt kê tất cả các số nguyên tố nhỏ hơn n cho trước."
   ]
  },
  {
   "cell_type": "code",
   "execution_count": 106,
   "metadata": {},
   "outputs": [],
   "source": [
    "def list_prime_numbers(n):\n",
    "    prime_numbers = []\n",
    "    if type(n) == float:\n",
    "        print(False)\n",
    "    if type(n) != float:\n",
    "        for number in range(2, n):\n",
    "            if number < 2:\n",
    "                print(False)           \n",
    "            else: prime_numbers.append(number)\n",
    "    return prime_numbers"
   ]
  },
  {
   "cell_type": "code",
   "execution_count": 107,
   "metadata": {},
   "outputs": [
    {
     "name": "stdout",
     "output_type": "stream",
     "text": [
      "False\n"
     ]
    },
    {
     "data": {
      "text/plain": [
       "[]"
      ]
     },
     "execution_count": 107,
     "metadata": {},
     "output_type": "execute_result"
    }
   ],
   "source": [
    "list_prime_numbers(4.3)"
   ]
  },
  {
   "cell_type": "markdown",
   "metadata": {},
   "source": [
    "* Question 5:\n",
    "- Viết chương trình tìm ước số chung lớn nhất, bội số chung nhỏ nhất của hai số tự nhiên a và b.\n"
   ]
  },
  {
   "cell_type": "markdown",
   "metadata": {},
   "source": [
    "### mấy câu còn lại khó quá nên xin phép đợi sửa nha Đăng ơi! :(((("
   ]
  }
 ],
 "metadata": {
  "kernelspec": {
   "display_name": "base",
   "language": "python",
   "name": "python3"
  },
  "language_info": {
   "codemirror_mode": {
    "name": "ipython",
    "version": 3
   },
   "file_extension": ".py",
   "mimetype": "text/x-python",
   "name": "python",
   "nbconvert_exporter": "python",
   "pygments_lexer": "ipython3",
   "version": "3.11.7"
  }
 },
 "nbformat": 4,
 "nbformat_minor": 2
}
