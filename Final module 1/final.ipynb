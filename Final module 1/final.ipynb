{
 "cells": [
  {
   "cell_type": "code",
   "execution_count": 14,
   "metadata": {},
   "outputs": [
    {
     "name": "stdout",
     "output_type": "stream",
     "text": [
      "Open successfully class1\n",
      "'str' object has no attribute 'shape'\n"
     ]
    }
   ],
   "source": [
    "filename = input(\"Enter a filename: \")\n",
    "try:\n",
    "    if filename == \"class1\":\n",
    "        with open('class1.txt','r') as class1:\n",
    "            # print(class1.read())\n",
    "            print(f'Open successfully {filename}')\n",
    "    elif filename == \"class2\":\n",
    "        with open(f'class2.txt','r') as class1:\n",
    "            # print(class2.read())\n",
    "            print(f'Open successfully {filename}')\n",
    "    else:\n",
    "            print (\"Sorry, I can't find this filename\")\n",
    "except Exception as e:\n",
    "     print(e)            "
   ]
  },
  {
   "cell_type": "code",
   "execution_count": 33,
   "metadata": {},
   "outputs": [
    {
     "data": {
      "text/plain": [
       "26"
      ]
     },
     "execution_count": 33,
     "metadata": {},
     "output_type": "execute_result"
    }
   ],
   "source": [
    "with open('class1.txt','r') as class1:\n",
    "    filecheck = class1.readlines()\n",
    "len(filecheck[0].split(','))"
   ]
  }
 ],
 "metadata": {
  "kernelspec": {
   "display_name": "base",
   "language": "python",
   "name": "python3"
  },
  "language_info": {
   "codemirror_mode": {
    "name": "ipython",
    "version": 3
   },
   "file_extension": ".py",
   "mimetype": "text/x-python",
   "name": "python",
   "nbconvert_exporter": "python",
   "pygments_lexer": "ipython3",
   "version": "3.11.7"
  }
 },
 "nbformat": 4,
 "nbformat_minor": 2
}
