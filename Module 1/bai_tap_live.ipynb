{
 "cells": [
  {
   "cell_type": "markdown",
   "metadata": {},
   "source": [
    "### 1. Tạo mảng:\n",
    "- Tạo mảng một chiều (1D) chứa 10 số nguyên ngẫu nhiên từ 0 đến 100.\n",
    "- Tạo mảng hai chiều (2D) chứa 5 hàng và 3 cột, với các giá trị được khởi tạo bằng 0.\n",
    "- Tạo mảng ba chiều (3D) chứa 2 khối 3x3x3, với các giá trị được khởi tạo bằng 1.\n",
    "### 2. Truy cập phần tử:\n",
    "- Truy cập và in ra phần tử đầu tiên, phần tử cuối cùng của mảng 1D.\n",
    "- Truy cập và in ra phần tử tại vị trí (2, 1) của mảng 2D.\n",
    "- Truy cập và thay đổi giá trị của phần tử tại vị trí (1, 1, 1) của mảng 3D.\n",
    "- Chuyển đổi mảng 2D sang mảng 1D và ngược lại."
   ]
  },
  {
   "cell_type": "code",
   "execution_count": 1,
   "metadata": {},
   "outputs": [],
   "source": [
    "import numpy as np"
   ]
  },
  {
   "cell_type": "code",
   "execution_count": 28,
   "metadata": {},
   "outputs": [
    {
     "name": "stdout",
     "output_type": "stream",
     "text": [
      "85 8\n",
      "95\n",
      "[[[1. 1. 1.]\n",
      "  [1. 1. 1.]\n",
      "  [1. 1. 1.]]\n",
      "\n",
      " [[1. 1. 1.]\n",
      "  [1. 0. 1.]\n",
      "  [1. 1. 1.]]\n",
      "\n",
      " [[1. 1. 1.]\n",
      "  [1. 1. 1.]\n",
      "  [1. 1. 1.]]]\n"
     ]
    },
    {
     "data": {
      "text/plain": [
       "array([[85, 59, 15, 73, 70],\n",
       "       [40, 50, 15, 46,  8]])"
      ]
     },
     "execution_count": 28,
     "metadata": {},
     "output_type": "execute_result"
    }
   ],
   "source": [
    "# Tạo mảng một chiều (1D) chứa 10 số nguyên ngẫu nhiên từ 0 đến 100.\n",
    "d1_ = np.random.randint(100,size=10)\n",
    "# Tạo mảng hai chiều (2D) chứa 5 hàng và 3 cột, với các giá trị được khởi tạo bằng 0.\n",
    "d2_ = np.random.randint(100,size=(5,3))\n",
    "# Tạo mảng ba chiều (3D) chứa 2 khối 3x3x3, với các giá trị được khởi tạo bằng 1.\n",
    "d3_ = np.ones((3,3,3))\n",
    "# Truy cập và in ra phần tử đầu tiên, phần tử cuối cùng của mảng 1D.\n",
    "print(d1_[0],d1_[-1])\n",
    "# Truy cập và in ra phần tử tại vị trí (2, 1) của mảng 2D.\n",
    "print(d2_[2,1])\n",
    "# Truy cập và thay đổi giá trị của phần tử tại vị trí (1, 1, 1) của mảng 3D.\n",
    "d3_[1,1,1]=0\n",
    "print(d3_)\n",
    "d2_.flatten()\n",
    "d1_.reshape(2,5)"
   ]
  },
  {
   "cell_type": "code",
   "execution_count": 49,
   "metadata": {},
   "outputs": [
    {
     "data": {
      "text/plain": [
       "array([[ 5,  7,  9],\n",
       "       [17, 19, 21]])"
      ]
     },
     "execution_count": 49,
     "metadata": {},
     "output_type": "execute_result"
    }
   ],
   "source": [
    "arr1 = np.array([[1,2,3],\n",
    "                [4,5,6]])\n",
    "arr2 = np.array([[7,8,9],\n",
    "                [10,11,12]])\n",
    "\n",
    "np.sum([arr1,arr2],axis=1)"
   ]
  },
  {
   "cell_type": "code",
   "execution_count": 46,
   "metadata": {},
   "outputs": [
    {
     "data": {
      "text/plain": [
       "array([4, 9])"
      ]
     },
     "execution_count": 46,
     "metadata": {},
     "output_type": "execute_result"
    }
   ],
   "source": [
    "import numpy as np  \n",
    "a=np.array([[1,4],[3,5]])  \n",
    "b=np.sum(a,axis=0)  \n",
    "b  "
   ]
  }
 ],
 "metadata": {
  "kernelspec": {
   "display_name": "base",
   "language": "python",
   "name": "python3"
  },
  "language_info": {
   "codemirror_mode": {
    "name": "ipython",
    "version": 3
   },
   "file_extension": ".py",
   "mimetype": "text/x-python",
   "name": "python",
   "nbconvert_exporter": "python",
   "pygments_lexer": "ipython3",
   "version": "3.11.7"
  }
 },
 "nbformat": 4,
 "nbformat_minor": 2
}
